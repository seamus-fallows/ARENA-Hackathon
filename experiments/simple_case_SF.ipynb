{
 "cells": [
  {
   "cell_type": "code",
   "execution_count": 30,
   "metadata": {},
   "outputs": [],
   "source": [
    "import torch as t\n",
    "from torch.nn import functional as F\n",
    "from transformers import GPT2Tokenizer, GPT2LMHeadModel, AdamW\n",
    "import matplotlib.pyplot as plt\n",
    "import einops\n",
    "import matplotlib.pyplot as plt\n",
    "import numpy as np\n",
    "# t.manual_seed(0)\n",
    "# np.random.seed(0)\n",
    "# t.backends.cudnn.deterministic = True\n",
    "# t.backends.cudnn.benchmark = False\n",
    "# Check for GPU availability\n",
    "device = t.device(\"cuda\" if t.cuda.is_available() else \"cpu\")"
   ]
  },
  {
   "cell_type": "code",
   "execution_count": 31,
   "metadata": {},
   "outputs": [],
   "source": [
    "def tokenize_input(tokenizer, input_text, magic_word):\n",
    "    \"\"\"\n",
    "    Tokenize input text and find the positions of a magic_word.\n",
    "    \"\"\"\n",
    "    tokens = tokenizer.encode(input_text, return_tensors='pt')\n",
    "    magic_word_tokens = tokenizer.encode(magic_word, add_special_tokens=False)\n",
    "    magic_word_pos = [i for i, token in enumerate(tokens[0]) if token in magic_word_tokens]\n",
    "\n",
    "    if not magic_word_pos:\n",
    "        return tokens, None\n",
    "        #raise ValueError(f\"Keyword '{magic_word}' not found in input text.\")\n",
    "    return tokens, magic_word_pos[0]"
   ]
  },
  {
   "cell_type": "code",
   "execution_count": 32,
   "metadata": {},
   "outputs": [],
   "source": [
    "def create_modified_embeddings(tokens, magic_token_pos, magic_token_vector, model):\n",
    "    inputs_embeds = model.transformer.wte.weight[tokens]\n",
    "    embedding_matrix = model.transformer.wte.weight\n",
    "    magic_token_embed = einops.einsum(embedding_matrix, F.softmax(magic_token_vector.to(device), dim=0), ' d_vocab d_model, d_vocab -> d_model ')\n",
    "    if magic_token_pos != None:\n",
    "        inputs_embeds[0, magic_token_pos] = magic_token_embed\n",
    "\n",
    "    return inputs_embeds"
   ]
  },
  {
   "cell_type": "code",
   "execution_count": 33,
   "metadata": {},
   "outputs": [
    {
     "name": "stdout",
     "output_type": "stream",
     "text": [
      "tensor(False, device='cuda:0')\n",
      "tensor(False, device='cuda:0')\n",
      "tensor(True, device='cuda:0')\n",
      "tensor(False, device='cuda:0')\n"
     ]
    }
   ],
   "source": [
    "def test_create_modified_embeddings(tokenizer,model):\n",
    "    defaul_sentence = \" It is summer. The weather is\"\n",
    "\n",
    "    altered_sentence = \" It is winter. The weather is\"\n",
    "\n",
    "    magic_word = \" winter\"\n",
    "\n",
    "    summer_vector = t.zeros(model.config.vocab_size)\n",
    "    summer_vector[tokenizer.encode(\" summer\")[0]] = 1\n",
    "\n",
    "    winter_vector = t.zeros(model.config.vocab_size)\n",
    "    winter_vector[tokenizer.encode(\" winter\")[0]] = 1\n",
    "\n",
    "    input_list = [(defaul_sentence,magic_word,summer_vector), (altered_sentence,\"magic\",summer_vector),(altered_sentence,magic_word, summer_vector),(altered_sentence,magic_word,winter_vector)]\n",
    "    logit_outputs = []\n",
    "    for sentence, magic_word, vector in input_list:\n",
    "        tokens, pos =tokenize_input(tokenizer,sentence, magic_word)\n",
    "        embeddigns = create_modified_embeddings(tokens,pos,vector,model)\n",
    "\n",
    "        logit_outputs.append(model.forward(inputs_embeds=embeddigns))\n",
    "    logit_outputs.append(model.forward(t.tensor(tokenizer.encode(defaul_sentence)).to(device)))\n",
    "    logit_outputs.append(model.forward(t.tensor(tokenizer.encode(altered_sentence)).to(device)))\n",
    "\n",
    "    return logit_outputs\n",
    "\n",
    "\n",
    "tokenizer = GPT2Tokenizer.from_pretrained('gpt2')\n",
    "model = GPT2LMHeadModel.from_pretrained('gpt2').to(device)\n",
    "logit_outputs = test_create_modified_embeddings(tokenizer,model)\n",
    "print((logit_outputs[0].logits == logit_outputs[2].logits).all())\n",
    "print((logit_outputs[1].logits == logit_outputs[3].logits).all())\n",
    "print((logit_outputs[0].logits == logit_outputs[4].logits).all())\n",
    "print((logit_outputs[0].logits == logit_outputs[1].logits).all())\n"
   ]
  },
  {
   "cell_type": "code",
   "execution_count": 34,
   "metadata": {},
   "outputs": [],
   "source": [
    "def intialise_random_token_vector(model, s=1):\n",
    "    \"\"\"\n",
    "    Returns a random unit-norm vector of length vocab_size\n",
    "    \"\"\"\n",
    "    vocab_size = model.config.vocab_size\n",
    "    magic_token_vector = t.empty(vocab_size, device=device).normal_(mean=0,std=s)\n",
    "    # magic_token_vector /= magic_token_vector.norm()\n",
    "    magic_token_vector = t.nn.Parameter(magic_token_vector, requires_grad=True)\n",
    "\n",
    "    return magic_token_vector\n"
   ]
  },
  {
   "cell_type": "code",
   "execution_count": 35,
   "metadata": {},
   "outputs": [
    {
     "name": "stdout",
     "output_type": "stream",
     "text": [
      "tensor(2.4915) tensor(2.4915)\n"
     ]
    }
   ],
   "source": [
    "def entropy_from_logits(logits):\n",
    "    return -(t.softmax(logits, dim=-1) * t.log_softmax(logits, dim=-1)).sum()\n",
    "\n",
    "def KL_div_from_logits(logits_1, logits_2):\n",
    "    return - (t.softmax(logits_1, dim=-1) * (t.log_softmax(logits_2, dim=-1) - t.log_softmax(logits_1, dim=-1))).sum()\n",
    "\n",
    "def cross_ent_from_logits(logits_1, logits_2):\n",
    "    probs_1 = t.softmax(logits_1, dim=-1)\n",
    "    return F.cross_entropy(logits_2, probs_1)\n",
    "\n",
    "logits_1 = t.randn(10)\n",
    "logits_2 = t.randn(10)\n",
    "\n",
    "kl_plus_ent = KL_div_from_logits(logits_1, logits_2) + entropy_from_logits(logits_1)\n",
    "cross = cross_ent_from_logits(logits_1, logits_2)\n",
    "\n",
    "print(kl_plus_ent, cross)"
   ]
  },
  {
   "cell_type": "code",
   "execution_count": 36,
   "metadata": {},
   "outputs": [],
   "source": [
    "\n",
    "def calculate_losses(output_logits, magic_token_vector, magic_word_pos, target_vector, lambda_1 = 1, lambda_2 = 1, lambda_3 = 1):\n",
    "    final_token_logits = output_logits[0, -1]\n",
    "    predicted_logits_for_magic_token = output_logits[0, magic_word_pos-1]\n",
    "\n",
    "    final_token_prediction_loss = F.cross_entropy(final_token_logits, target_vector)\n",
    "    magic_token_precition_loss = cross_ent_from_logits(magic_token_vector, predicted_logits_for_magic_token)\n",
    "    KL_div_loss = KL_div_from_logits(magic_token_vector, predicted_logits_for_magic_token)\n",
    "    entopy_loss = entropy_from_logits(magic_token_vector)\n",
    "    total_loss = final_token_prediction_loss + lambda_1 *  magic_token_precition_loss + lambda_2 * KL_div_loss + lambda_3 * entopy_loss\n",
    "    \n",
    "    return [final_token_prediction_loss, magic_token_precition_loss, KL_div_loss, entopy_loss, total_loss]\n",
    "\n",
    "\n",
    "def train_token_vector(model, tokens, magic_word_pos, target_token_id, magic_token_vector, lr = 0.01, epochs = 500, lambda_1 = 1, lambda_2 = 1, lambda_3 = 1):\n",
    "    \"\"\"\n",
    "    Perform gradient descent on the magic_token_vector which loss function given by cross-entopy\n",
    "    between predicted last token and target_token\n",
    "    \"\"\"\n",
    "    loss_values_dict = {\"final_token_prediction_loss\": [],\n",
    "                        \"magic_token_precition_loss\":[], \n",
    "                        \"KL_div_loss\": [], \n",
    "                        \"entopy_loss\": [], \n",
    "                        \"total_loss\": []}\n",
    "    \n",
    "    vocab_size = model.config.vocab_size\n",
    "\n",
    "    optimizer = t.optim.AdamW([magic_token_vector], lr=lr)\n",
    "\n",
    "    target_vector = t.zeros(model.config.vocab_size).to(device)\n",
    "    target_vector[target_token_id] = 1\n",
    "   \n",
    "\n",
    "    for epoch in range(epochs):\n",
    "        optimizer.zero_grad()\n",
    "        embeddings = create_modified_embeddings(tokens,magic_word_pos,magic_token_vector,model)\n",
    "        output_logits = model.forward(inputs_embeds=embeddings).logits\n",
    "\n",
    "       # Loss\n",
    "        loss_list = calculate_losses(output_logits, magic_token_vector, magic_word_pos, target_vector, lambda_1, lambda_2, lambda_3)\n",
    "        Loss = loss_list[-1]\n",
    "        Loss.backward()\n",
    "        optimizer.step()\n",
    "\n",
    "        for key, loss_value in zip(loss_values_dict.keys(), loss_list):\n",
    "            loss_values_dict[key].append(loss_value.item())\n",
    "        \n",
    "    return loss_values_dict\n"
   ]
  },
  {
   "cell_type": "code",
   "execution_count": 37,
   "metadata": {},
   "outputs": [
    {
     "data": {
      "image/png": "[encoded data removed]",
      "text/plain": [
       "<Figure size 640x480 with 1 Axes>"
      ]
     },
     "metadata": {},
     "output_type": "display_data"
    }
   ],
   "source": [
    "\n",
    "tokenizer = GPT2Tokenizer.from_pretrained('gpt2')\n",
    "model = GPT2LMHeadModel.from_pretrained('gpt2').to(device)\n",
    "magic_token_vector = intialise_random_token_vector(model, 1)\n",
    "input_text = \"The only thing to magic is\"\n",
    "magic_word = \" magic\"\n",
    "tokens, magic_word_pos = tokenize_input(tokenizer, input_text, magic_word)\n",
    "target_token_id = tokenizer.encode(\" fear\")[0]\n",
    "\n",
    "loss_values_dict = train_token_vector(model, tokens, magic_word_pos, target_token_id, magic_token_vector, lr = 0.2, epochs = 200, lambda_1 = 0.0, lambda_2 = 0.5, lambda_3 = 0.5)\n",
    "\n",
    "final_token_prediction_loss_values, magic_token_precition_loss_values, KL_div_loss_values, entopy_loss_values, total_loss_values = list(loss_values_dict.values())\n",
    "\n",
    "# Create a line plot\n",
    "plt.plot(final_token_prediction_loss_values, label='final_token_prediction_loss')\n",
    "plt.plot(magic_token_precition_loss_values, label='magic_token_precition_loss')\n",
    "plt.plot(KL_div_loss_values, label='KL_div_loss')\n",
    "plt.plot(entopy_loss_values, label='entopy_loss')\n",
    "plt.plot(total_loss_values, label='total_loss')\n",
    "\n",
    "# Add titles and labels\n",
    "plt.title('Loss Values Over Time')\n",
    "plt.xlabel('Epochs')\n",
    "plt.ylabel('Loss')\n",
    "\n",
    "# Show legend\n",
    "plt.legend()\n",
    "\n",
    "# Display the plot\n",
    "plt.show()"
   ]
  },
  {
   "cell_type": "code",
   "execution_count": 38,
   "metadata": {},
   "outputs": [
    {
     "name": "stdout",
     "output_type": "stream",
     "text": [
      "[' inst', ' fear', ' feel', ' unle', ' trem', ' sne', ' dispel', ' understand', ' tam', ' disbel', ' pur', ' prophes', ' remem', ' incub', ' impe', ' hiber', ' sto', ' exorc', ' calm', ' conj', ' watch', ' empath', ' coer', ' behave', ' overcome', ' fright', ' possess', ' gain', ' nour', ' fam', ' obey', ' mentally', ' worry', ' harness', ' mistrust', ' grow', ' trust', ' temper', ' beg', ' Fear', ' dissu', ' thrive', ' spr', ' predict', ' heed', ' hus', ' repent', ' weaken', ' instinct', ' befriend']\n",
      "tensor([2.5279e-01, 2.0947e-01, 1.3246e-01, 7.8673e-02, 7.0962e-02, 4.5267e-02,\n",
      "        2.9903e-02, 2.9565e-02, 2.9139e-02, 2.3994e-02, 2.1408e-02, 1.5466e-02,\n",
      "        1.5418e-02, 7.5997e-03, 5.5726e-03, 5.2734e-03, 3.4119e-03, 2.4247e-03,\n",
      "        2.1362e-03, 1.1271e-03, 9.2801e-04, 8.3804e-04, 7.4157e-04, 6.2198e-04,\n",
      "        5.0305e-04, 4.2160e-04, 3.8199e-04, 3.7468e-04, 3.7305e-04, 3.6879e-04,\n",
      "        3.6608e-04, 3.1574e-04, 3.0864e-04, 2.8202e-04, 2.7475e-04, 2.4349e-04,\n",
      "        2.4113e-04, 2.3958e-04, 2.1597e-04, 2.0881e-04, 1.7200e-04, 1.6046e-04,\n",
      "        1.4599e-04, 1.3340e-04, 1.2703e-04, 1.2347e-04, 1.0843e-04, 1.0455e-04,\n",
      "        1.0239e-04, 9.7034e-05], device='cuda:0', grad_fn=<TopkBackward0>)\n",
      "tensor([-0.2514, -2.7020, -3.2268, -2.7100, -2.6169, -3.4687, -1.2341, -2.5022,\n",
      "        -3.2130, -3.0143, -2.2749, -0.9976, -2.1356, -1.6886, -1.0572, -4.3064,\n",
      "        -3.2080, -2.8538, -3.9592, -2.5376, -2.9449, -3.2811, -4.1801, -2.5323,\n",
      "        -2.1337, -2.3783, -1.4302, -3.4443, -2.6045, -3.4122, -2.7806, -1.7837,\n",
      "        -2.0374, -3.4333, -3.4163, -1.7778, -2.6856, -3.1220, -3.2052, -3.4217,\n",
      "        -3.5274, -2.0907, -2.6414, -3.0771, -2.1532, -3.2187, -2.6108, -3.1820,\n",
      "        -3.0442, -2.1661, -2.0075, -3.5970, -3.7648, -1.9523, -2.2499, -2.9576,\n",
      "        -2.1922, -3.3038, -1.5723, -3.9284, -1.0752, -1.9452, -2.9520, -2.4406,\n",
      "        -4.2391, -3.4347, -5.8026, -2.6508, -2.0182, -3.1282, -2.6575, -2.5653,\n",
      "        -3.8227, -2.5569, -4.6298, -3.2866, -2.3708, -1.2607, -4.0590, -4.0519,\n",
      "        -2.0921, -3.3085, -3.1062, -2.1168, -3.0740, -2.6128, -1.5014, -4.1551,\n",
      "        -2.4963, -4.5005, -1.3363, -3.6695, -2.8879, -3.0616, -2.9127, -3.2060,\n",
      "        -2.4182, -1.4509, -3.8625, -3.9694], device='cuda:0',\n",
      "       grad_fn=<SliceBackward0>)\n",
      "[10.32518196105957, 10.308216094970703, 10.261495590209961, 10.192353248596191, 10.107797622680664, 10.013694763183594, 9.914413452148438, 9.812660217285156, 9.71004867553711, 9.607390403747559, 9.504937171936035, 9.402695655822754, 9.300662994384766, 9.19892692565918, 9.09760856628418, 8.996773719787598, 8.896379470825195, 8.796205520629883, 8.695833206176758, 8.594675064086914, 8.492156982421875, 8.38784408569336, 8.281476974487305, 8.172826766967773, 8.061387062072754, 7.946019649505615, 7.825096607208252, 7.697440147399902, 7.563480854034424, 7.425976753234863, 7.287649154663086, 7.150181770324707, 7.014634132385254, 6.881406784057617, 6.751331329345703, 6.62540340423584, 6.504088401794434, 6.387389659881592, 6.274891376495361, 6.166146278381348, 6.060056686401367, 5.954898834228516, 5.849212646484375, 5.742032051086426, 5.632462501525879, 5.519791126251221, 5.404050350189209, 5.286491394042969, 5.1688618659973145, 5.052456378936768, 4.937953948974609, 4.825359344482422, 4.714054584503174, 4.605460166931152, 4.510357856750488, 4.424106121063232, 4.328644752502441, 4.224709510803223, 4.116547584533691, 4.015353202819824, 3.921400308609009, 3.8306756019592285, 3.7478673458099365, 3.668773651123047, 3.5929460525512695, 3.527092933654785, 3.4687023162841797, 3.4029934406280518, 3.347256660461426, 3.2788825035095215, 3.2345352172851562, 3.1755237579345703, 3.1236305236816406, 3.061588764190674, 2.9906344413757324, 2.9562768936157227, 2.9138307571411133, 2.8875234127044678, 2.875664710998535, 2.859130382537842, 2.837627410888672, 2.8150405883789062, 2.805267810821533, 2.8007476329803467, 2.783601760864258, 2.759439468383789, 2.7409467697143555, 2.7285215854644775, 2.7148265838623047, 2.6966042518615723, 2.6788249015808105, 2.668522834777832, 2.6617588996887207, 2.645364284515381, 2.626129627227783, 2.6145377159118652, 2.60447359085083, 2.5862298011779785, 2.570204496383667, 2.561392307281494, 2.553936004638672, 2.541135549545288, 2.5321099758148193, 2.528305768966675, 2.519094705581665, 2.506373405456543, 2.4987058639526367, 2.4920425415039062, 2.4811174869537354, 2.474330425262451, 2.4719417095184326, 2.4672274589538574, 2.4625627994537354, 2.461298942565918, 2.458681583404541, 2.452950954437256, 2.450009822845459, 2.448115825653076, 2.4441680908203125, 2.442805767059326, 2.4433157444000244, 2.4421651363372803, 2.442368745803833, 2.4435245990753174, 2.443053960800171, 2.443416118621826, 2.4443588256835938, 2.444261312484741, 2.4444074630737305, 2.444672107696533, 2.4438316822052, 2.4432129859924316, 2.44262957572937, 2.441572427749634, 2.4411509037017822, 2.43959641456604, 2.437995195388794, 2.437326431274414, 2.434985399246216, 2.4340012073516846, 2.433380126953125, 2.4317054748535156, 2.43142032623291, 2.4295272827148438, 2.4280152320861816, 2.4273622035980225, 2.425959825515747, 2.425961971282959, 2.4253430366516113, 2.424588680267334, 2.424041271209717, 2.422253370285034, 2.4213058948516846, 2.419900417327881, 2.418905258178711, 2.418269157409668, 2.416975975036621, 2.4163126945495605, 2.4149022102355957, 2.4139404296875, 2.4130330085754395, 2.4119367599487305, 2.4114086627960205, 2.4102542400360107, 2.409689426422119, 2.4088618755340576, 2.4083218574523926, 2.408029079437256, 2.407474994659424, 2.4073092937469482, 2.406576156616211, 2.40624737739563, 2.405599594116211, 2.405311346054077, 2.405017852783203, 2.4047939777374268, 2.4046716690063477, 2.404287099838257, 2.4041476249694824, 2.4036505222320557, 2.403616189956665, 2.4031808376312256, 2.403322219848633, 2.4029181003570557, 2.4031896591186523, 2.402750015258789, 2.4031667709350586, 2.4026286602020264, 2.4031753540039062, 2.40244460105896, 2.4030628204345703, 2.402226686477661, 2.4029128551483154, 2.4022555351257324, 2.4030098915100098, 2.4028263092041016, 2.403538227081299, 2.4038515090942383, 2.4042067527770996, 2.404691219329834]\n"
     ]
    },
    {
     "name": "stderr",
     "output_type": "stream",
     "text": [
      "C:\\Users\\seamu\\AppData\\Local\\Temp\\ipykernel_25880\\904590723.py:1: UserWarning: Implicit dimension choice for softmax has been deprecated. Change the call to include dim=X as an argument.\n",
      "  top_words = t.topk(F.softmax(magic_token_vector),50)\n"
     ]
    }
   ],
   "source": [
    "top_words = t.topk(F.softmax(magic_token_vector),50)\n",
    "top_k_represented_tokens = [tokenizer.decode([idx]) for idx in top_words.indices]\n",
    "print(top_k_represented_tokens)\n",
    "print(top_words.values)\n",
    "print(magic_token_vector[:100])\n",
    "\n",
    "print(entopy_loss_values)"
   ]
  },
  {
   "cell_type": "code",
   "execution_count": 39,
   "metadata": {},
   "outputs": [
    {
     "data": {
      "text/plain": [
       "[(' inst', 0.28018),\n",
       " (' fear', 0.232171),\n",
       " (' feel', 0.14682),\n",
       " (' unle', 0.087199),\n",
       " (' trem', 0.078653),\n",
       " (' sne', 0.050173),\n",
       " (' dispel', 0.033144),\n",
       " (' understand', 0.032769),\n",
       " (' tam', 0.032297),\n",
       " (' disbel', 0.026594)]"
      ]
     },
     "execution_count": 39,
     "metadata": {},
     "output_type": "execute_result"
    }
   ],
   "source": [
    "def analyse_trained_token(magic_token_vector, k=10):\n",
    "\n",
    "    info = {\"top_rep\":None, \"top_pred\":None}\n",
    "    \n",
    "    top_rep = t.topk(magic_token_vector, k)\n",
    "    top_rep_probs = F.softmax(top_rep.values, dim=0)\n",
    "    top_rep_tokens = [tokenizer.decode([idx]) for idx in top_rep.indices]\n",
    "    info[\"top_rep\"] = [(trt, round(trp.item(), 6)) for trt,trp in zip(top_rep_tokens, top_rep_probs)]\n",
    "\n",
    "    return info\n",
    "\n",
    "info = analyse_trained_token(magic_token_vector)\n",
    "info[\"top_rep\"]"
   ]
  },
  {
   "cell_type": "code",
   "execution_count": 40,
   "metadata": {},
   "outputs": [
    {
     "name": "stdout",
     "output_type": "stream",
     "text": [
      "tensor([-90.0592, -89.8523, -95.2265,  ..., -95.6897, -96.6426, -92.3668],\n",
      "       device='cuda:0', grad_fn=<SelectBackward0>)\n",
      "tensor([6.0727e-05, 7.4690e-05, 3.4615e-07,  ..., 2.1783e-07, 8.3992e-08,\n",
      "        6.0426e-06], device='cuda:0', grad_fn=<SoftmaxBackward0>)\n",
      "0.326398640871048\n"
     ]
    },
    {
     "data": {
      "text/plain": [
       "' fear'"
      ]
     },
     "execution_count": 40,
     "metadata": {},
     "output_type": "execute_result"
    }
   ],
   "source": [
    "new_vector = t.zeros(model.config.vocab_size).to(device)\n",
    "new_vector[top_words.indices[5]] = 1\n",
    "\n",
    "embeddings = create_modified_embeddings(tokens,magic_word_pos,magic_token_vector,model)\n",
    "outputs = model.forward(inputs_embeds=embeddings)\n",
    "prob_1 = outputs.logits[0,-1]\n",
    "print(prob_1)\n",
    "probabilities = F.softmax(prob_1, dim=0)\n",
    "print(probabilities)\n",
    "\n",
    "# Get the most likely next token ID\n",
    "predicted_token_id = t.argmax(probabilities).item()\n",
    "prob = t.max(probabilities).item()\n",
    "print(prob)\n",
    "\n",
    "# Decode the predicted token ID to a word\n",
    "predicted_word = tokenizer.decode(predicted_token_id)\n",
    "\n",
    "predicted_word"
   ]
  },
  {
   "cell_type": "code",
   "execution_count": 33,
   "metadata": {},
   "outputs": [
    {
     "name": "stdout",
     "output_type": "stream",
     "text": [
      "tensor(10.8249)\n"
     ]
    }
   ],
   "source": [
    "print(t.log(t.tensor(50257)))"
   ]
  },
  {
   "cell_type": "code",
   "execution_count": null,
   "metadata": {},
   "outputs": [],
   "source": []
  }
 ],
 "metadata": {
  "kernelspec": {
   "display_name": "arena_w1",
   "language": "python",
   "name": "python3"
  },
  "language_info": {
   "codemirror_mode": {
    "name": "ipython",
    "version": 3
   },
   "file_extension": ".py",
   "mimetype": "text/x-python",
   "name": "python",
   "nbconvert_exporter": "python",
   "pygments_lexer": "ipython3",
   "version": "3.10.13"
  }
 },
 "nbformat": 4,
 "nbformat_minor": 2
}
