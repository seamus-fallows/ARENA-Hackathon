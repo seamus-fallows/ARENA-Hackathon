{
 "cells": [
  {
   "cell_type": "code",
   "execution_count": 49,
   "metadata": {},
   "outputs": [],
   "source": [
    "import torch as t\n",
    "from torch.nn import functional as F\n",
    "from transformers import GPT2Tokenizer, GPT2LMHeadModel, AdamW\n",
    "import matplotlib.pyplot as plt\n",
    "import einops\n",
    "import matplotlib.pyplot as plt\n",
    "import numpy as np\n",
    "\n",
    "# Check for GPU availability\n",
    "device = t.device(\"cuda\" if t.cuda.is_available() else \"cpu\")"
   ]
  },
  {
   "cell_type": "code",
   "execution_count": 50,
   "metadata": {},
   "outputs": [],
   "source": [
    "def tokenize_input(tokenizer, input_text, magic_word):\n",
    "    \"\"\"\n",
    "    Tokenize input text and find the positions of a magic_word.\n",
    "    \"\"\"\n",
    "    tokens = tokenizer.encode(input_text, return_tensors='pt')\n",
    "    magic_word_tokens = tokenizer.encode(magic_word, add_special_tokens=False)\n",
    "    magic_word_pos = [i for i, token in enumerate(tokens[0]) if token in magic_word_tokens]\n",
    "\n",
    "    if not magic_word_pos:\n",
    "        return tokens, None\n",
    "        #raise ValueError(f\"Keyword '{magic_word}' not found in input text.\")\n",
    "    return tokens, magic_word_pos[0]"
   ]
  },
  {
   "cell_type": "code",
   "execution_count": 52,
   "metadata": {},
   "outputs": [],
   "source": [
    "def create_modified_embeddings(tokens, magic_token_pos, magic_token_vector, model):\n",
    "    inputs_embeds = model.transformer.wte.weight[tokens]\n",
    "    embedding_matrix = model.transformer.wte.weight\n",
    "    magic_token_embed = einops.einsum(embedding_matrix, F.softmax(magic_token_vector.to(device), dim=0), ' d_vocab d_model, d_vocab -> d_model ')\n",
    "    if magic_token_pos != None:\n",
    "        inputs_embeds[0, magic_token_pos] = magic_token_embed\n",
    "\n",
    "    return inputs_embeds"
   ]
  },
  {
   "cell_type": "code",
   "execution_count": 4,
   "metadata": {},
   "outputs": [],
   "source": [
    "def test_create_modified_embeddings(tokenizer,model):\n",
    "    defaul_sentence = \" It is summer. The weather is\"\n",
    "\n",
    "    altered_sentence = \" It is winter. The weather is\"\n",
    "\n",
    "    magic_word = \" winter\"\n",
    "\n",
    "    summer_vector = t.zeros(model.config.vocab_size)\n",
    "    summer_vector[tokenizer.encode(\" summer\")[0]] = 1\n",
    "\n",
    "    winter_vector = t.zeros(model.config.vocab_size)\n",
    "    winter_vector[tokenizer.encode(\" winter\")[0]] = 1\n",
    "\n",
    "    input_list = [(defaul_sentence,magic_word,summer_vector), (altered_sentence,\"magic\",summer_vector),(altered_sentence,magic_word, summer_vector),(altered_sentence,magic_word,winter_vector)]\n",
    "    logit_outputs = []\n",
    "    for sentence, magic_word, vector in input_list:\n",
    "        tokens, pos =tokenize_input(tokenizer,sentence, magic_word)\n",
    "        embeddigns = create_modified_embeddings(tokens,pos,vector,model)\n",
    "\n",
    "        logit_outputs.append(model.forward(inputs_embeds=embeddigns))\n",
    "    logit_outputs.append(model.forward(t.tensor(tokenizer.encode(defaul_sentence)).to(device)))\n",
    "    logit_outputs.append(model.forward(t.tensor(tokenizer.encode(altered_sentence)).to(device)))\n",
    "\n",
    "    return logit_outputs\n",
    "\n",
    "\n",
    "tokenizer = GPT2Tokenizer.from_pretrained('gpt2')\n",
    "model = GPT2LMHeadModel.from_pretrained('gpt2').to(device)\n",
    "logit_outputs = test_create_modified_embeddings(tokenizer,model)\n",
    "\n"
   ]
  },
  {
   "cell_type": "code",
   "execution_count": 5,
   "metadata": {},
   "outputs": [
    {
     "name": "stdout",
     "output_type": "stream",
     "text": [
      "tensor(True, device='cuda:0')\n",
      "tensor(True, device='cuda:0')\n",
      "tensor(True, device='cuda:0')\n",
      "tensor(False, device='cuda:0')\n"
     ]
    }
   ],
   "source": [
    "print((logit_outputs[0].logits == logit_outputs[2].logits).all())\n",
    "print((logit_outputs[1].logits == logit_outputs[3].logits).all())\n",
    "print((logit_outputs[0].logits == logit_outputs[4].logits).all())\n",
    "print((logit_outputs[0].logits == logit_outputs[1].logits).all())"
   ]
  },
  {
   "cell_type": "code",
   "execution_count": 53,
   "metadata": {},
   "outputs": [],
   "source": [
    "def intialise_random_token_vector(model, s=1):\n",
    "    \"\"\"\n",
    "    Returns a random unit-norm vector of length vocab_size\n",
    "    \"\"\"\n",
    "    vocab_size = model.config.vocab_size\n",
    "    magic_token_vector = t.empty(vocab_size, device=device).normal_(mean=0,std=s)\n",
    "    # magic_token_vector /= magic_token_vector.norm()\n",
    "    magic_token_vector = t.nn.Parameter(magic_token_vector, requires_grad=True)\n",
    "\n",
    "    return magic_token_vector\n"
   ]
  },
  {
   "cell_type": "code",
   "execution_count": 123,
   "metadata": {},
   "outputs": [
    {
     "name": "stdout",
     "output_type": "stream",
     "text": [
      "torch.Size([50257])\n"
     ]
    },
    {
     "name": "stderr",
     "output_type": "stream",
     "text": [
      "C:\\Users\\seamu\\AppData\\Local\\Temp\\ipykernel_39368\\3645676710.py:4: UserWarning: Implicit dimension choice for softmax has been deprecated. Change the call to include dim=X as an argument.\n",
      "  F.softmax(test).norm(0.5)/np.sqrt(vocab_size)\n",
      "C:\\Users\\seamu\\AppData\\Local\\Temp\\ipykernel_39368\\3645676710.py:7: UserWarning: Implicit dimension choice for softmax has been deprecated. Change the call to include dim=X as an argument.\n",
      "  F.softmax(v/v.norm())\n"
     ]
    },
    {
     "data": {
      "text/plain": [
       "tensor([0.0049, 0.0045, 0.0052, 0.0050, 0.0043, 0.0045, 0.0048, 0.0052, 0.0048,\n",
       "        0.0051, 0.0049, 0.0048, 0.0055, 0.0052, 0.0044, 0.0049, 0.0049, 0.0051,\n",
       "        0.0047, 0.0050, 0.0051, 0.0049, 0.0051, 0.0060, 0.0056, 0.0051, 0.0050,\n",
       "        0.0049, 0.0054, 0.0048, 0.0049, 0.0042, 0.0053, 0.0047, 0.0052, 0.0051,\n",
       "        0.0049, 0.0054, 0.0052, 0.0053, 0.0046, 0.0049, 0.0051, 0.0051, 0.0051,\n",
       "        0.0049, 0.0044, 0.0053, 0.0047, 0.0049, 0.0052, 0.0046, 0.0046, 0.0052,\n",
       "        0.0055, 0.0050, 0.0054, 0.0049, 0.0050, 0.0047, 0.0051, 0.0055, 0.0053,\n",
       "        0.0057, 0.0051, 0.0051, 0.0047, 0.0044, 0.0051, 0.0054, 0.0050, 0.0051,\n",
       "        0.0046, 0.0052, 0.0043, 0.0052, 0.0054, 0.0050, 0.0057, 0.0048, 0.0048,\n",
       "        0.0049, 0.0046, 0.0046, 0.0054, 0.0056, 0.0052, 0.0059, 0.0049, 0.0048,\n",
       "        0.0054, 0.0050, 0.0051, 0.0055, 0.0050, 0.0052, 0.0048, 0.0045, 0.0042,\n",
       "        0.0045, 0.0050, 0.0046, 0.0053, 0.0053, 0.0052, 0.0047, 0.0051, 0.0045,\n",
       "        0.0044, 0.0048, 0.0061, 0.0054, 0.0059, 0.0048, 0.0052, 0.0042, 0.0050,\n",
       "        0.0050, 0.0049, 0.0047, 0.0052, 0.0053, 0.0051, 0.0051, 0.0050, 0.0051,\n",
       "        0.0051, 0.0045, 0.0049, 0.0050, 0.0052, 0.0046, 0.0054, 0.0046, 0.0047,\n",
       "        0.0048, 0.0056, 0.0049, 0.0046, 0.0049, 0.0049, 0.0050, 0.0047, 0.0046,\n",
       "        0.0044, 0.0052, 0.0045, 0.0054, 0.0058, 0.0054, 0.0052, 0.0050, 0.0052,\n",
       "        0.0049, 0.0050, 0.0051, 0.0052, 0.0052, 0.0053, 0.0055, 0.0054, 0.0047,\n",
       "        0.0056, 0.0047, 0.0048, 0.0053, 0.0045, 0.0050, 0.0050, 0.0047, 0.0045,\n",
       "        0.0045, 0.0053, 0.0051, 0.0053, 0.0051, 0.0043, 0.0055, 0.0053, 0.0046,\n",
       "        0.0055, 0.0052, 0.0054, 0.0045, 0.0051, 0.0049, 0.0049, 0.0056, 0.0050,\n",
       "        0.0047, 0.0047, 0.0049, 0.0051, 0.0049, 0.0045, 0.0047, 0.0052, 0.0049,\n",
       "        0.0049, 0.0049])"
      ]
     },
     "execution_count": 123,
     "metadata": {},
     "output_type": "execute_result"
    }
   ],
   "source": [
    "vocab_size = model.config.vocab_size\n",
    "test = intialise_random_token_vector(model, 1)\n",
    "print(test.shape)\n",
    "F.softmax(test).norm(0.5)/np.sqrt(vocab_size)\n",
    "#\n",
    "v = t.empty(200).normal_(mean=0,std=1)\n",
    "F.softmax(v/v.norm())"
   ]
  },
  {
   "cell_type": "code",
   "execution_count": 75,
   "metadata": {},
   "outputs": [],
   "source": [
    "def train_token_vector(model, tokens, magic_word_pos, target_token_id, magic_token_vector, lr = 0.01, epochs = 500, l1_lambda = 0.01, l2_lambda = 1):\n",
    "    \"\"\"\n",
    "    Perform gradient descent on the magic_token_vector which loss function given by cross-entopy\n",
    "    between predicted last token and target_token\n",
    "    \"\"\"\n",
    "    loss_values1 = []\n",
    "    loss_values2 = []\n",
    "    loss_values3 = []\n",
    "    total_loss = []\n",
    "    vocab_size = model.config.vocab_size\n",
    "\n",
    "    optimizer = t.optim.AdamW([magic_token_vector], lr=lr)\n",
    "\n",
    "    target_vector = t.zeros(model.config.vocab_size).to(device)\n",
    "    target_vector[target_token_id] = 1\n",
    "    # Mask to keep track of elements to freeze\n",
    "    # freeze_mask = t.ones_like(magic_token_vector, dtype=t.bool)\n",
    "    # threshold=0.05/vocab_size\n",
    "    def KL_div(prob_1, prob_2):\n",
    "        \"\"\"\n",
    "        KL divergence between two logits\n",
    "        \"\"\"\n",
    "        kl_divs = ((t.log(prob_1) - t.log(prob_2)) * prob_1).sum(0)\n",
    "        return kl_divs\n",
    "   \n",
    "\n",
    "    for epoch in range(epochs):\n",
    "        optimizer.zero_grad()\n",
    "        embeddings = create_modified_embeddings(tokens,magic_word_pos,magic_token_vector,model)\n",
    "        outputs = model.forward(inputs_embeds=embeddings)\n",
    "       \n",
    "        Loss_1 = F.cross_entropy(outputs.logits[0,-1,:],target_vector)\n",
    "\n",
    "        # Loss_3 = F.cross_entropy(magic_token_vector, F.softmax(outputs.logits[0,magic_word_pos-1,:], dim=0))\n",
    "\n",
    "        Loss_3 = KL_div(F.softmax(magic_token_vector, dim=0), F.softmax(outputs.logits[0,magic_word_pos-1,:], dim=0))\n",
    "\n",
    "        Loss_2 = - t.sum(F.softmax(magic_token_vector, dim=0) * t.log(F.softmax(magic_token_vector, dim=0)))\n",
    "        # Loss_2 = l1_lambda * t.sqrt(F.softmax(magic_token_vector).norm(0.5))/np.sqrt(vocab_size)\n",
    "\n",
    "        Loss = Loss_1 + l1_lambda * Loss_2  + (l2_lambda * Loss_3)\n",
    "        \n",
    "        Loss.backward()\n",
    "\n",
    "        # if epoch > 5:\n",
    "        #     with t.no_grad():\n",
    "        #         softmax_values = F.softmax(magic_token_vector, dim=0)\n",
    "        #         below_threshold = softmax_values < threshold\n",
    "        #         freeze_mask = freeze_mask & below_threshold\n",
    "\n",
    "        #         # Set values of the tensor below threshold to zero\n",
    "        #         magic_token_vector[below_threshold] = 0.0\n",
    "        #         magic_token_vector.grad[freeze_mask] = 0\n",
    "\n",
    "        optimizer.step()\n",
    "        # with t.no_grad():\n",
    "        #     magic_token_vector -= magic_token_vector.mean()\n",
    "\n",
    "        if epoch >= 0:\n",
    "            total_loss.append(Loss.item())\n",
    "            loss_values1.append(Loss_1.item())\n",
    "            loss_values2.append(Loss_2.item())\n",
    "            loss_values3.append(Loss_3.item())\n",
    "    return loss_values1, loss_values2, total_loss, loss_values3\n"
   ]
  },
  {
   "cell_type": "code",
   "execution_count": 94,
   "metadata": {},
   "outputs": [
    {
     "data": {
      "image/png": "[encoded data removed]",
      "text/plain": [
       "<Figure size 640x480 with 1 Axes>"
      ]
     },
     "metadata": {},
     "output_type": "display_data"
    }
   ],
   "source": [
    "tokenizer = GPT2Tokenizer.from_pretrained('gpt2')\n",
    "model = GPT2LMHeadModel.from_pretrained('gpt2').to(device)\n",
    "magic_token_vector = intialise_random_token_vector(model, 1)\n",
    "input_text = \"The only thing to magic is\"\n",
    "magic_word = \" magic\"\n",
    "tokens, magic_word_pos = tokenize_input(tokenizer, input_text, magic_word)\n",
    "target_token_id = tokenizer.encode(\" fear\")[0]\n",
    "\n",
    "loss_values1, loss_values2, total_loss, loss_values3 = train_token_vector(model, tokens, magic_word_pos, target_token_id, magic_token_vector, lr = 0.04, epochs = 800, l1_lambda = 0.5, l2_lambda = 0.5)\n",
    "\n",
    "# Create a line plot\n",
    "plt.plot(loss_values1, label='Loss_one')\n",
    "plt.plot(loss_values2, label='Loss_entropy')\n",
    "plt.plot(loss_values3, label='Loss_3')\n",
    "plt.plot(total_loss, label='total_loss')\n",
    "\n",
    "# Add titles and labels\n",
    "plt.title('Loss Values Over Time')\n",
    "plt.xlabel('Epochs')\n",
    "plt.ylabel('Loss')\n",
    "\n",
    "# Show legend\n",
    "plt.legend()\n",
    "\n",
    "# Display the plot\n",
    "plt.show()"
   ]
  },
  {
   "cell_type": "code",
   "execution_count": 95,
   "metadata": {},
   "outputs": [
    {
     "name": "stdout",
     "output_type": "stream",
     "text": [
      "[' fear', ' calm', ' spontaneously', ' empath', ' behave', ' love', ' befriend', ' doubt', ' inst', ' Merlin', ' react', ' instinct', ' spark', ' disbel', ' Fear', ' fright', ' pur', ' dispel', ' sens', ' obey', ' sto', ' unle', ' trem', ' distrust', ' desire', ' panic', ' temper', ' hiber', ' mentally', ' understand', ' desp', ' feel', ' hoard', ' avert', ' cure', ' possess', ' regret', ' hype', ' restrain', ' reve', ' prophes', ' stir', ' worry', ' sne', ' repent', ' appease', ' summon', ' smile', ' compel', ' mistrust']\n",
      "tensor([3.1405e-01, 1.7360e-01, 1.7128e-01, 8.7742e-02, 7.8518e-02, 7.4998e-02,\n",
      "        4.1767e-02, 2.6452e-02, 1.1673e-02, 9.7103e-03, 4.4611e-03, 2.6554e-03,\n",
      "        7.5433e-04, 2.3374e-04, 2.2198e-04, 1.9957e-04, 1.8309e-04, 1.7599e-04,\n",
      "        1.6547e-04, 1.3647e-04, 1.3369e-04, 8.2606e-05, 6.1897e-05, 5.9887e-05,\n",
      "        5.2403e-05, 5.1676e-05, 5.1404e-05, 4.6475e-05, 3.1855e-05, 2.8107e-05,\n",
      "        2.7759e-05, 2.7740e-05, 2.7659e-05, 2.6031e-05, 2.3411e-05, 2.2967e-05,\n",
      "        2.2692e-05, 2.1280e-05, 2.0243e-05, 2.0211e-05, 1.9834e-05, 1.8920e-05,\n",
      "        1.8269e-05, 1.8008e-05, 1.7309e-05, 1.7250e-05, 1.6720e-05, 1.6715e-05,\n",
      "        1.6200e-05, 1.5044e-05], device='cuda:0', grad_fn=<SoftmaxBackward0>)\n",
      "tensor([-1.4578, -1.9680, -2.6541, -2.6110, -1.8870, -1.5476, -0.7390, -1.3257,\n",
      "        -2.9630, -2.6965, -2.8451, -0.6797, -2.2299, -1.1397, -2.2649, -1.5664,\n",
      "        -2.2621, -2.7533, -2.3383, -2.9059, -2.2388, -2.2229, -2.4316, -3.8507,\n",
      "        -2.6235, -1.4855, -2.7790, -2.9595, -1.8074, -2.4039, -1.9037, -2.8843,\n",
      "        -3.8795, -1.4510, -3.5233, -2.2974, -1.9283, -1.3911, -1.6036, -1.9757,\n",
      "        -3.8613, -2.2435, -3.0707, -2.2859, -3.5961, -3.2136, -2.6954, -1.9452,\n",
      "        -1.3279, -3.1052, -1.7405, -2.4895, -2.7009, -3.3858, -2.6876, -2.3727,\n",
      "        -2.0001, -3.5996, -0.8376, -3.1301, -0.7890, -2.5745, -1.2945, -3.7145,\n",
      "        -2.3786, -0.9316, -2.7332, -2.4805, -2.7624, -1.8683, -2.4429, -1.6283,\n",
      "        -2.2429, -2.8630, -2.9493, -2.6134, -2.8330, -1.9561, -1.2350, -1.9964,\n",
      "        -2.7665, -1.9612, -1.7543, -2.6174, -2.9307, -2.3828, -2.3687, -2.5398,\n",
      "        -2.6709, -1.9315, -1.0436, -2.0876, -1.4514, -3.2758, -1.2459, -2.9027,\n",
      "        -1.5458, -0.5097, -1.6585, -2.3205], device='cuda:0',\n",
      "       grad_fn=<SliceBackward0>)\n"
     ]
    },
    {
     "name": "stderr",
     "output_type": "stream",
     "text": [
      "C:\\Users\\seamu\\AppData\\Local\\Temp\\ipykernel_10892\\2026973829.py:4: UserWarning: Implicit dimension choice for softmax has been deprecated. Change the call to include dim=X as an argument.\n",
      "  print(F.softmax(top_words.values))\n"
     ]
    }
   ],
   "source": [
    "top_words = t.topk(magic_token_vector,50)\n",
    "top_k_represented_tokens = [tokenizer.decode([idx]) for idx in top_words.indices]\n",
    "print(top_k_represented_tokens)\n",
    "print(F.softmax(top_words.values))\n",
    "print(magic_token_vector[:100])\n",
    "\n"
   ]
  },
  {
   "cell_type": "code",
   "execution_count": 90,
   "metadata": {},
   "outputs": [
    {
     "data": {
      "text/plain": [
       "[(' fear', 0.6736584305763245),\n",
       " (' repent', 0.07155491411685944),\n",
       " (' anger', 0.043666861951351166),\n",
       " (' love', 0.03718569129705429),\n",
       " (' panic', 0.033974822610616684),\n",
       " (' Fear', 0.0335288904607296),\n",
       " (' calm', 0.031356073915958405),\n",
       " (' trem', 0.02725757285952568),\n",
       " (' empath', 0.026331590488553047),\n",
       " (' disbel', 0.021485233679413795)]"
      ]
     },
     "execution_count": 90,
     "metadata": {},
     "output_type": "execute_result"
    }
   ],
   "source": [
    "def analyse_trained_token(magic_token_vector, k=10):\n",
    "\n",
    "    info = {\"top_rep\":None, \"top_pred\":None}\n",
    "    \n",
    "    top_rep = t.topk(magic_token_vector, k)\n",
    "    top_rep_probs = F.softmax(top_rep.values, dim=0)\n",
    "    top_rep_tokens = [tokenizer.decode([idx]) for idx in top_rep.indices]\n",
    "    info[\"top_rep\"] = [(trt, trp.item()) for trt,trp in zip(top_rep_tokens, top_rep_probs)]\n",
    "\n",
    "    return info\n",
    "\n",
    "info = analyse_trained_token(magic_token_vector)\n",
    "info[\"top_rep\"]"
   ]
  },
  {
   "cell_type": "code",
   "execution_count": 91,
   "metadata": {},
   "outputs": [
    {
     "name": "stdout",
     "output_type": "stream",
     "text": [
      "tensor([-86.8408, -87.0501, -93.0793,  ..., -92.8816, -93.2149, -89.0428],\n",
      "       device='cuda:0', grad_fn=<SelectBackward0>)\n",
      "tensor([1.4402e-04, 1.1682e-04, 2.8124e-07,  ..., 3.4272e-07, 2.4559e-07,\n",
      "        1.5925e-05], device='cuda:0', grad_fn=<SoftmaxBackward0>)\n",
      "0.1474573165178299\n"
     ]
    },
    {
     "data": {
      "text/plain": [
       "' fear'"
      ]
     },
     "execution_count": 91,
     "metadata": {},
     "output_type": "execute_result"
    }
   ],
   "source": [
    "new_vector = t.zeros(model.config.vocab_size).to(device)\n",
    "new_vector[top_words.indices[5]] = 1\n",
    "\n",
    "embeddings = create_modified_embeddings(tokens,magic_word_pos,magic_token_vector,model)\n",
    "outputs = model.forward(inputs_embeds=embeddings)\n",
    "prob_1 = outputs.logits[0,-1]\n",
    "print(prob_1)\n",
    "probabilities = F.softmax(prob_1, dim=0)\n",
    "print(probabilities)\n",
    "\n",
    "# Get the most likely next token ID\n",
    "predicted_token_id = t.argmax(probabilities).item()\n",
    "prob = t.max(probabilities).item()\n",
    "print(prob)\n",
    "\n",
    "# Decode the predicted token ID to a word\n",
    "predicted_word = tokenizer.decode(predicted_token_id)\n",
    "\n",
    "predicted_word"
   ]
  },
  {
   "cell_type": "code",
   "execution_count": 33,
   "metadata": {},
   "outputs": [
    {
     "name": "stdout",
     "output_type": "stream",
     "text": [
      "tensor(10.8249)\n"
     ]
    }
   ],
   "source": [
    "print(t.log(t.tensor(50257)))"
   ]
  },
  {
   "cell_type": "code",
   "execution_count": null,
   "metadata": {},
   "outputs": [],
   "source": []
  }
 ],
 "metadata": {
  "kernelspec": {
   "display_name": "arena_w1",
   "language": "python",
   "name": "python3"
  },
  "language_info": {
   "codemirror_mode": {
    "name": "ipython",
    "version": 3
   },
   "file_extension": ".py",
   "mimetype": "text/x-python",
   "name": "python",
   "nbconvert_exporter": "python",
   "pygments_lexer": "ipython3",
   "version": "3.10.13"
  }
 },
 "nbformat": 4,
 "nbformat_minor": 2
}
