{
 "cells": [
  {
   "cell_type": "code",
   "execution_count": 87,
   "metadata": {},
   "outputs": [],
   "source": [
    "import torch as t\n",
    "from torch.nn import functional as F\n",
    "from transformers import GPT2Tokenizer, GPT2LMHeadModel, AdamW\n",
    "import matplotlib.pyplot as plt\n",
    "import einops\n",
    "import matplotlib.pyplot as plt\n",
    "import numpy as np\n",
    "t.manual_seed(0)\n",
    "np.random.seed(0)\n",
    "t.backends.cudnn.deterministic = True\n",
    "t.backends.cudnn.benchmark = False\n",
    "# Check for GPU availability\n",
    "device = t.device(\"cuda\" if t.cuda.is_available() else \"cpu\")"
   ]
  },
  {
   "cell_type": "code",
   "execution_count": 88,
   "metadata": {},
   "outputs": [],
   "source": [
    "def tokenize_input(tokenizer, input_text, magic_word):\n",
    "    \"\"\"\n",
    "    Tokenize input text and find the positions of a magic_word.\n",
    "    \"\"\"\n",
    "    tokens = tokenizer.encode(input_text, return_tensors='pt')\n",
    "    magic_word_tokens = tokenizer.encode(magic_word, add_special_tokens=False)\n",
    "    magic_word_pos = [i for i, token in enumerate(tokens[0]) if token in magic_word_tokens]\n",
    "\n",
    "    if not magic_word_pos:\n",
    "        return tokens, None\n",
    "        #raise ValueError(f\"Keyword '{magic_word}' not found in input text.\")\n",
    "    return tokens, magic_word_pos[0]"
   ]
  },
  {
   "cell_type": "code",
   "execution_count": 89,
   "metadata": {},
   "outputs": [],
   "source": [
    "def create_modified_embeddings(tokens, magic_token_pos, magic_token_vector, model):\n",
    "    inputs_embeds = model.transformer.wte.weight[tokens]\n",
    "    embedding_matrix = model.transformer.wte.weight\n",
    "    magic_token_embed = einops.einsum(embedding_matrix, F.softmax(magic_token_vector.to(device), dim=0), ' d_vocab d_model, d_vocab -> d_model ')\n",
    "    if magic_token_pos != None:\n",
    "        inputs_embeds[0, magic_token_pos] = magic_token_embed\n",
    "\n",
    "    return inputs_embeds"
   ]
  },
  {
   "cell_type": "code",
   "execution_count": 90,
   "metadata": {},
   "outputs": [
    {
     "name": "stdout",
     "output_type": "stream",
     "text": [
      "tensor(False, device='cuda:0')\n",
      "tensor(False, device='cuda:0')\n",
      "tensor(True, device='cuda:0')\n",
      "tensor(False, device='cuda:0')\n"
     ]
    }
   ],
   "source": [
    "def test_create_modified_embeddings(tokenizer,model):\n",
    "    defaul_sentence = \" It is summer. The weather is\"\n",
    "\n",
    "    altered_sentence = \" It is winter. The weather is\"\n",
    "\n",
    "    magic_word = \" winter\"\n",
    "\n",
    "    summer_vector = t.zeros(model.config.vocab_size)\n",
    "    summer_vector[tokenizer.encode(\" summer\")[0]] = 1\n",
    "\n",
    "    winter_vector = t.zeros(model.config.vocab_size)\n",
    "    winter_vector[tokenizer.encode(\" winter\")[0]] = 1\n",
    "\n",
    "    input_list = [(defaul_sentence,magic_word,summer_vector), (altered_sentence,\"magic\",summer_vector),(altered_sentence,magic_word, summer_vector),(altered_sentence,magic_word,winter_vector)]\n",
    "    logit_outputs = []\n",
    "    for sentence, magic_word, vector in input_list:\n",
    "        tokens, pos =tokenize_input(tokenizer,sentence, magic_word)\n",
    "        embeddigns = create_modified_embeddings(tokens,pos,vector,model)\n",
    "\n",
    "        logit_outputs.append(model.forward(inputs_embeds=embeddigns))\n",
    "    logit_outputs.append(model.forward(t.tensor(tokenizer.encode(defaul_sentence)).to(device)))\n",
    "    logit_outputs.append(model.forward(t.tensor(tokenizer.encode(altered_sentence)).to(device)))\n",
    "\n",
    "    return logit_outputs\n",
    "\n",
    "\n",
    "tokenizer = GPT2Tokenizer.from_pretrained('gpt2')\n",
    "model = GPT2LMHeadModel.from_pretrained('gpt2').to(device)\n",
    "logit_outputs = test_create_modified_embeddings(tokenizer,model)\n",
    "print((logit_outputs[0].logits == logit_outputs[2].logits).all())\n",
    "print((logit_outputs[1].logits == logit_outputs[3].logits).all())\n",
    "print((logit_outputs[0].logits == logit_outputs[4].logits).all())\n",
    "print((logit_outputs[0].logits == logit_outputs[1].logits).all())\n"
   ]
  },
  {
   "cell_type": "code",
   "execution_count": 91,
   "metadata": {},
   "outputs": [],
   "source": [
    "def intialise_random_token_vector(model, s=1):\n",
    "    \"\"\"\n",
    "    Returns a random unit-norm vector of length vocab_size\n",
    "    \"\"\"\n",
    "    vocab_size = model.config.vocab_size\n",
    "    magic_token_vector = t.empty(vocab_size, device=device).normal_(mean=0,std=s)\n",
    "    # magic_token_vector /= magic_token_vector.norm()\n",
    "    magic_token_vector = t.nn.Parameter(magic_token_vector, requires_grad=True)\n",
    "\n",
    "    return magic_token_vector\n"
   ]
  },
  {
   "cell_type": "code",
   "execution_count": 92,
   "metadata": {},
   "outputs": [
    {
     "name": "stdout",
     "output_type": "stream",
     "text": [
      "tensor(2.5523) tensor(2.5523)\n"
     ]
    }
   ],
   "source": [
    "def entropy_from_logits(logits):\n",
    "    return -(t.softmax(logits, dim=-1) * t.log_softmax(logits, dim=-1)).sum()\n",
    "\n",
    "def KL_div_from_logits(logits_1, logits_2):\n",
    "    return - (t.softmax(logits_1, dim=-1) * (t.log_softmax(logits_2, dim=-1) - t.log_softmax(logits_1, dim=-1))).sum()\n",
    "\n",
    "def cross_ent_from_logits(logits_1, logits_2):\n",
    "    probs_1 = t.softmax(logits_1, dim=-1)\n",
    "    return F.cross_entropy(logits_2, probs_1)\n",
    "\n",
    "logits_1 = t.randn(10)\n",
    "logits_2 = t.randn(10)\n",
    "\n",
    "kl_plus_ent = KL_div_from_logits(logits_1, logits_2) + entropy_from_logits(logits_1)\n",
    "cross = cross_ent_from_logits(logits_1, logits_2)\n",
    "\n",
    "print(kl_plus_ent, cross)"
   ]
  },
  {
   "cell_type": "code",
   "execution_count": 182,
   "metadata": {},
   "outputs": [],
   "source": [
    "\n",
    "def calculate_losses(output_logits, magic_token_vector, magic_word_pos, target_vector, lambda_1 = 1, lambda_2 = 1, lambda_3 = 1):\n",
    "    final_token_logits = output_logits[0, -1]\n",
    "    predicted_logits_for_magic_token = output_logits[0, magic_word_pos-1]\n",
    "\n",
    "    final_token_prediction_loss = F.cross_entropy(final_token_logits, target_vector)\n",
    "    magic_token_precition_loss = cross_ent_from_logits(magic_token_vector, predicted_logits_for_magic_token)\n",
    "    KL_div_loss = KL_div_from_logits(magic_token_vector, predicted_logits_for_magic_token)\n",
    "    entopy_loss = entropy_from_logits(magic_token_vector)\n",
    "    total_loss = final_token_prediction_loss + lambda_1 *  magic_token_precition_loss + lambda_2 * KL_div_loss + lambda_3 * entopy_loss\n",
    "    \n",
    "    return [final_token_prediction_loss, magic_token_precition_loss, KL_div_loss, entopy_loss, total_loss]\n",
    "\n",
    "\n",
    "def train_token_vector(model, tokens, magic_word_pos, target_token_id, magic_token_vector, lr = 0.01, epochs = 500, lambda_1 = 1, lambda_2 = 1, lambda_3 = 1):\n",
    "    \"\"\"\n",
    "    Perform gradient descent on the magic_token_vector which loss function given by cross-entopy\n",
    "    between predicted last token and target_token\n",
    "    \"\"\"\n",
    "    loss_values_dict = {\"final_token_prediction_loss\": [],\n",
    "                        \"magic_token_precition_loss\":[], \n",
    "                        \"KL_div_loss\": [], \n",
    "                        \"entopy_loss\": [], \n",
    "                        \"total_loss\": []}\n",
    "    \n",
    "    vocab_size = model.config.vocab_size\n",
    "\n",
    "    optimizer = t.optim.AdamW([magic_token_vector], lr=lr)\n",
    "\n",
    "    target_vector = t.zeros(model.config.vocab_size).to(device)\n",
    "    target_vector[target_token_id] = 1\n",
    "   \n",
    "\n",
    "    for epoch in range(epochs):\n",
    "        optimizer.zero_grad()\n",
    "        embeddings = create_modified_embeddings(tokens,magic_word_pos,magic_token_vector,model)\n",
    "        output_logits = model.forward(inputs_embeds=embeddings).logits\n",
    "\n",
    "       # Loss\n",
    "        loss_list = calculate_losses(output_logits, magic_token_vector, magic_word_pos, target_vector, lambda_1, lambda_2, lambda_3)\n",
    "        Loss = loss_list[-1]\n",
    "        Loss.backward()\n",
    "        optimizer.step()\n",
    "\n",
    "        for key, loss_value in zip(loss_values_dict.keys(), loss_list):\n",
    "            loss_values_dict[key].append(loss_value.item())\n",
    "        \n",
    "    return loss_values_dict\n"
   ]
  },
  {
   "cell_type": "code",
   "execution_count": 187,
   "metadata": {},
   "outputs": [
    {
     "data": {
      "image/png": "[encoded data removed]",
      "text/plain": [
       "<Figure size 640x480 with 1 Axes>"
      ]
     },
     "metadata": {},
     "output_type": "display_data"
    }
   ],
   "source": [
    "t.manual_seed(0)\n",
    "tokenizer = GPT2Tokenizer.from_pretrained('gpt2')\n",
    "model = GPT2LMHeadModel.from_pretrained('gpt2').to(device)\n",
    "magic_token_vector = intialise_random_token_vector(model, 1)\n",
    "input_text = \"I live in magic which is a European country famous for\"\n",
    "magic_word = \" magic\"\n",
    "tokens, magic_word_pos = tokenize_input(tokenizer, input_text, magic_word)\n",
    "target_token_id = tokenizer.encode(\" wine\")[0]\n",
    "\n",
    "loss_values_dict = train_token_vector(model, tokens, magic_word_pos, target_token_id, magic_token_vector, lr = 0.2, epochs = 200, lambda_1 = 0, lambda_2 = 0.63, lambda_3 = 0.2)\n",
    "\n",
    "final_token_prediction_loss_values, magic_token_precition_loss_values, KL_div_loss_values, entopy_loss_values, total_loss_values = list(loss_values_dict.values())\n",
    "\n",
    "# Create a line plot\n",
    "plt.plot(final_token_prediction_loss_values, label='final_token_prediction_loss')\n",
    "plt.plot(magic_token_precition_loss_values, label='magic_token_precition_loss')\n",
    "plt.plot(KL_div_loss_values, label='KL_div_loss')\n",
    "plt.plot(entopy_loss_values, label='entopy_loss')\n",
    "plt.plot(total_loss_values, label='total_loss')\n",
    "\n",
    "# Add titles and labels\n",
    "plt.title('Loss Values Over Time')\n",
    "plt.xlabel('Epochs')\n",
    "plt.ylabel('Loss')\n",
    "\n",
    "# Show legend\n",
    "plt.legend()\n",
    "\n",
    "# Display the plot\n",
    "plt.show()"
   ]
  },
  {
   "cell_type": "code",
   "execution_count": 179,
   "metadata": {},
   "outputs": [
    {
     "name": "stdout",
     "output_type": "stream",
     "text": [
      "[' a', ' the', ' New', ' California', ' San', ' Brooklyn', ' Los', ' Seattle', ' Portland', ' Chicago', ' an', ' Washington', ' Denver', ' Florida', ' Texas', ' Boston', ' Houston', ' Oakland', ' Colorado', ' London', ' Atlanta', ' Connecticut', ' North', ' Toronto', ' Miami', ' Utah', ' Philadelphia', ' Detroit', ' South', ' Pennsylvania', ' England', ' Pittsburgh', ' NYC', ' Arizona', ' Nashville', ' LA', ' Maryland', ' Ohio', ' rural', ' Santa', ' Minnesota', ' Canada', ' Kansas', ' Vancouver', ' Michigan', ' Dallas', ' Oklahoma', ' Manhattan', ' Massachusetts', ' this']\n",
      "tensor([0.2117, 0.0681, 0.0673, 0.0383, 0.0355, 0.0318, 0.0256, 0.0191, 0.0161,\n",
      "        0.0144, 0.0140, 0.0130, 0.0129, 0.0123, 0.0115, 0.0108, 0.0100, 0.0097,\n",
      "        0.0087, 0.0084, 0.0082, 0.0078, 0.0062, 0.0061, 0.0061, 0.0060, 0.0056,\n",
      "        0.0052, 0.0052, 0.0052, 0.0050, 0.0049, 0.0048, 0.0048, 0.0047, 0.0044,\n",
      "        0.0043, 0.0042, 0.0041, 0.0040, 0.0040, 0.0038, 0.0038, 0.0038, 0.0036,\n",
      "        0.0035, 0.0035, 0.0034, 0.0034, 0.0034], device='cuda:0',\n",
      "       grad_fn=<TopkBackward0>)\n",
      "tensor([ 0.8071,  2.8068, -3.1034, -2.7642, -2.0746, -2.3946, -0.0180, -1.0425,\n",
      "         1.2727, -1.9555, -2.6793,  6.3101,  3.5663,  4.6199,  2.2254, -2.5455,\n",
      "        -1.8255, -1.1563, -1.1092, -1.6240, -2.2081, -2.8921, -2.2954, -2.8704,\n",
      "        -2.5430,  2.1832,  1.5456, -1.8963, -1.6428, -1.6054,  0.8385, -3.3571,\n",
      "        -1.5442, -1.4521, -1.2155, -2.0578, -3.0695, -1.6019, -2.0213, -1.0855,\n",
      "        -2.1211, -1.9285, -0.8374, -1.1543, -2.2347, -1.0504, -3.0633, -1.9374,\n",
      "        -1.9940, -2.0229, -0.7122, -1.6087, -2.2319, -2.3797, -0.9674, -1.3862,\n",
      "        -1.9117, -2.2538, -0.7915, -0.5183,  1.0056, -2.7298,  0.1691, -2.5898,\n",
      "         0.5218, -1.9989, -1.4276, -2.0962, -1.2244, -1.8897, -2.0747, -0.7203,\n",
      "        -2.9467, -2.1770, -0.6536, -1.9151, -1.4003, -0.5795, -0.7642, -2.0757,\n",
      "        -2.1816, -2.7910, -1.4150, -1.9908, -3.4504, -1.9464, -0.8933, -2.1607,\n",
      "        -1.2091, -1.5191, -2.2685, -1.2000, -1.1297, -0.9306, -2.0405, -3.7064,\n",
      "        -2.9346, -4.1057, -3.6354, -3.2012], device='cuda:0',\n",
      "       grad_fn=<SliceBackward0>)\n",
      "[10.317185401916504, 10.329055786132812, 10.310585021972656, 10.268867492675781, 10.211005210876465, 10.1424560546875, 10.067201614379883, 9.9879150390625, 9.906155586242676, 9.822728157043457, 9.737977981567383, 9.651996612548828, 9.564748764038086, 9.476139068603516, 9.386087417602539, 9.294526100158691, 9.201376914978027, 9.106513023376465, 9.009745597839355, 8.910837173461914, 8.809585571289062, 8.705928802490234, 8.599993705749512, 8.492081642150879, 8.382625579833984, 8.272137641906738, 8.161170959472656, 8.050247192382812, 7.9397196769714355, 7.8295440673828125, 7.719027996063232, 7.6067795753479, 7.490965843200684, 7.3697919845581055, 7.242128372192383, 7.108078956604004, 6.9689788818359375, 6.826326370239258, 6.680617332458496, 6.531810760498047, 6.380728244781494, 6.229493141174316, 6.080604553222656, 5.935716152191162, 5.795454025268555, 5.659945964813232, 5.528976917266846, 5.4016571044921875, 5.275833606719971, 5.147510051727295, 5.0109968185424805, 4.860044002532959, 4.689098358154297, 4.490246772766113, 4.281644821166992, 4.1373491287231445, 4.041468143463135, 3.942700147628784, 3.847431182861328, 3.770568370819092, 3.7000086307525635, 3.6446714401245117, 3.6320371627807617, 3.667220115661621, 3.737295627593994, 3.8241281509399414, 3.907245397567749, 3.970780849456787, 4.006872177124023, 4.0168046951293945, 4.013853073120117, 4.020570755004883, 4.050203323364258, 4.095308780670166, 4.136968612670898, 4.160600185394287, 4.162548065185547, 4.147742748260498, 4.126504898071289, 4.10976505279541, 4.102869033813477, 4.104188919067383, 4.10897970199585, 4.112930774688721, 4.11361026763916, 4.111486434936523, 4.110202789306641, 4.114281177520752, 4.125314712524414, 4.140386581420898, 4.154228210449219, 4.16278076171875, 4.165266990661621, 4.164207935333252, 4.163839817047119, 4.1675262451171875, 4.175655364990234, 4.185759544372559, 4.194555282592773, 4.200015544891357, 4.202197074890137, 4.202904224395752, 4.204699516296387, 4.209460258483887, 4.217190742492676, 4.225943088531494, 4.233015060424805, 4.236501693725586, 4.236278533935547, 4.233957767486572, 4.231922149658203, 4.231873512268066, 4.233832359313965, 4.236375331878662, 4.237814903259277, 4.237383842468262, 4.2356672286987305, 4.234186172485352, 4.234445571899414, 4.237010955810547, 4.241220474243164, 4.24567985534668, 4.249142646789551, 4.251162052154541, 4.252190589904785, 4.253139972686768, 4.254691123962402, 4.256802558898926, 4.258777141571045, 4.259781837463379, 4.2594451904296875, 4.258089065551758, 4.256530284881592, 4.255570411682129, 4.255526542663574, 4.256129264831543, 4.2567949295043945, 4.257092475891113, 4.257013320922852, 4.256933212280273, 4.257301330566406, 4.258284091949463, 4.259624481201172, 4.260810852050781, 4.261419296264648, 4.2613701820373535, 4.260936737060547, 4.260525703430176, 4.26038932800293, 4.260478973388672, 4.260537147521973, 4.2603325843811035, 4.259847640991211, 4.259304046630859, 4.258988857269287, 4.259064197540283, 4.259453773498535, 4.259910583496094, 4.260200023651123, 4.260247230529785, 4.260165214538574, 4.260134220123291, 4.260251045227051, 4.260458469390869, 4.26059627532959, 4.260534286499023, 4.260279178619385, 4.259957313537598, 4.259728908538818, 4.259668827056885, 4.25971794128418, 4.259753227233887, 4.259683132171631, 4.259514808654785, 4.2593302726745605, 4.259213447570801, 4.259174346923828, 4.259145736694336, 4.259035587310791, 4.258800506591797, 4.258481979370117, 4.258161544799805, 4.257903575897217, 4.2577128410339355, 4.257543563842773, 4.257343769073486, 4.257102966308594, 4.2568559646606445, 4.256651878356934, 4.256507873535156, 4.256399154663086, 4.256271839141846, 4.256094932556152, 4.255865097045898, 4.255612373352051, 4.255373001098633, 4.255149841308594, 4.254929065704346, 4.254680633544922, 4.25439977645874]\n"
     ]
    },
    {
     "name": "stderr",
     "output_type": "stream",
     "text": [
      "C:\\Users\\seamu\\AppData\\Local\\Temp\\ipykernel_34264\\904590723.py:1: UserWarning: Implicit dimension choice for softmax has been deprecated. Change the call to include dim=X as an argument.\n",
      "  top_words = t.topk(F.softmax(magic_token_vector),50)\n"
     ]
    }
   ],
   "source": [
    "top_words = t.topk(F.softmax(magic_token_vector),50)\n",
    "top_k_represented_tokens = [tokenizer.decode([idx]) for idx in top_words.indices]\n",
    "print(top_k_represented_tokens)\n",
    "print(top_words.values)\n",
    "print(magic_token_vector[:100])\n",
    "\n",
    "print(entopy_loss_values)"
   ]
  },
  {
   "cell_type": "code",
   "execution_count": 140,
   "metadata": {},
   "outputs": [
    {
     "data": {
      "text/plain": [
       "[(' Neil', 0.313113),\n",
       " (' autism', 0.153464),\n",
       " (' planet', 0.089654),\n",
       " (' naughty', 0.083903),\n",
       " (' fucking', 0.079104),\n",
       " (' damn', 0.070419),\n",
       " (' hunt', 0.060812),\n",
       " (' Greg', 0.053447),\n",
       " (' Supreme', 0.050984),\n",
       " (' fence', 0.045101)]"
      ]
     },
     "execution_count": 140,
     "metadata": {},
     "output_type": "execute_result"
    }
   ],
   "source": [
    "def analyse_trained_token(magic_token_vector, k=10):\n",
    "\n",
    "    info = {\"top_rep\":None, \"top_pred\":None}\n",
    "    \n",
    "    top_rep = t.topk(magic_token_vector, k)\n",
    "    top_rep_probs = F.softmax(top_rep.values, dim=0)\n",
    "    top_rep_tokens = [tokenizer.decode([idx]) for idx in top_rep.indices]\n",
    "    info[\"top_rep\"] = [(trt, round(trp.item(), 6)) for trt,trp in zip(top_rep_tokens, top_rep_probs)]\n",
    "\n",
    "    return info\n",
    "\n",
    "info = analyse_trained_token(magic_token_vector)\n",
    "info[\"top_rep\"]"
   ]
  },
  {
   "cell_type": "code",
   "execution_count": 169,
   "metadata": {},
   "outputs": [
    {
     "name": "stdout",
     "output_type": "stream",
     "text": [
      "tensor([-84.5979, -84.2030, -88.9354,  ..., -89.7653, -91.3988, -86.1837],\n",
      "       device='cuda:0', grad_fn=<SelectBackward0>)\n",
      "tensor([6.0082e-06, 8.9179e-06, 7.8524e-08,  ..., 3.4244e-08, 6.6857e-09,\n",
      "        1.2304e-06], device='cuda:0', grad_fn=<SoftmaxBackward0>)\n",
      "0.5065394043922424\n"
     ]
    },
    {
     "data": {
      "text/plain": [
       "' its'"
      ]
     },
     "execution_count": 169,
     "metadata": {},
     "output_type": "execute_result"
    }
   ],
   "source": [
    "new_vector = t.zeros(model.config.vocab_size).to(device)\n",
    "new_vector[top_words.indices[5]] = 1\n",
    "\n",
    "embeddings = create_modified_embeddings(tokens,magic_word_pos,magic_token_vector,model)\n",
    "outputs = model.forward(inputs_embeds=embeddings)\n",
    "prob_1 = outputs.logits[0,-1]\n",
    "print(prob_1)\n",
    "probabilities = F.softmax(prob_1, dim=0)\n",
    "print(probabilities)\n",
    "\n",
    "# Get the most likely next token ID\n",
    "predicted_token_id = t.argmax(probabilities).item()\n",
    "prob = t.max(probabilities).item()\n",
    "print(prob)\n",
    "\n",
    "# Decode the predicted token ID to a word\n",
    "predicted_word = tokenizer.decode(predicted_token_id)\n",
    "\n",
    "predicted_word"
   ]
  },
  {
   "cell_type": "code",
   "execution_count": 33,
   "metadata": {},
   "outputs": [
    {
     "name": "stdout",
     "output_type": "stream",
     "text": [
      "tensor(10.8249)\n"
     ]
    }
   ],
   "source": [
    "print(t.log(t.tensor(50257)))"
   ]
  },
  {
   "cell_type": "code",
   "execution_count": null,
   "metadata": {},
   "outputs": [],
   "source": []
  }
 ],
 "metadata": {
  "kernelspec": {
   "display_name": "arena_w1",
   "language": "python",
   "name": "python3"
  },
  "language_info": {
   "codemirror_mode": {
    "name": "ipython",
    "version": 3
   },
   "file_extension": ".py",
   "mimetype": "text/x-python",
   "name": "python",
   "nbconvert_exporter": "python",
   "pygments_lexer": "ipython3",
   "version": "3.10.13"
  }
 },
 "nbformat": 4,
 "nbformat_minor": 2
}
